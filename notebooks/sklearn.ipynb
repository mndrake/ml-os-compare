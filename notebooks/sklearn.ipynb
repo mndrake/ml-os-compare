{
 "metadata": {
  "language_info": {
   "codemirror_mode": {
    "name": "ipython",
    "version": 3
   },
   "file_extension": ".py",
   "mimetype": "text/x-python",
   "name": "python",
   "nbconvert_exporter": "python",
   "pygments_lexer": "ipython3",
   "version": "3.7.9-final"
  },
  "orig_nbformat": 2,
  "kernelspec": {
   "name": "Python 3.7.9 64-bit ('house-prices': conda)",
   "display_name": "Python 3.7.9 64-bit ('house-prices': conda)",
   "metadata": {
    "interpreter": {
     "hash": "4298b73e519f2fdd4ef70e94b093e234e5f2152505a72ace6b261e020e5cb87e"
    }
   }
  }
 },
 "nbformat": 4,
 "nbformat_minor": 2,
 "cells": [
  {
   "cell_type": "code",
   "execution_count": 1,
   "metadata": {},
   "outputs": [],
   "source": [
    "import pandas as pd\n",
    "from sklearn.neighbors import KNeighborsRegressor\n",
    "from sklearn.metrics import mean_squared_error"
   ]
  },
  {
   "cell_type": "code",
   "execution_count": 2,
   "metadata": {},
   "outputs": [],
   "source": [
    "train = pd.read_csv('../data/train.csv')\n",
    "test = pd.read_csv('../data/test.csv')\n",
    "\n",
    "X = train.drop(['Id', 'target'], axis=1)\n",
    "X_test = test.drop(['Id', 'target'], axis=1)\n",
    "\n",
    "y = train['target'].values\n",
    "y_test = test['target'].values"
   ]
  },
  {
   "cell_type": "code",
   "execution_count": 18,
   "metadata": {
    "tags": []
   },
   "outputs": [
    {
     "output_type": "stream",
     "name": "stdout",
     "text": "train rmse: 0.18256344463941357\ntest rmse: 0.213976841410062\n"
    }
   ],
   "source": [
    "model = KNeighborsRegressor(n_neighbors=5)\n",
    "\n",
    "model.fit(X, y)\n",
    "\n",
    "pred = model.predict(X)\n",
    "pred_test = model.predict(X_test)\n",
    "\n",
    "print('train rmse:', mean_squared_error(y, pred, squared=False))\n",
    "print('test rmse:', mean_squared_error(y_test, pred_test, squared=False))"
   ]
  }
 ]
}