{
 "metadata": {
  "language_info": {
   "codemirror_mode": {
    "name": "ipython",
    "version": 3
   },
   "file_extension": ".py",
   "mimetype": "text/x-python",
   "name": "python",
   "nbconvert_exporter": "python",
   "pygments_lexer": "ipython3",
   "version": "3.7.9-final"
  },
  "orig_nbformat": 2,
  "kernelspec": {
   "name": "Python 3.7.9 64-bit ('house-prices': conda)",
   "display_name": "Python 3.7.9 64-bit ('house-prices': conda)",
   "metadata": {
    "interpreter": {
     "hash": "4298b73e519f2fdd4ef70e94b093e234e5f2152505a72ace6b261e020e5cb87e"
    }
   }
  }
 },
 "nbformat": 4,
 "nbformat_minor": 2,
 "cells": [
  {
   "cell_type": "code",
   "execution_count": 16,
   "metadata": {},
   "outputs": [],
   "source": [
    "import pandas as pd\n",
    "from xgboost import XGBRegressor\n",
    "from sklearn.metrics import mean_squared_error"
   ]
  },
  {
   "cell_type": "code",
   "execution_count": 22,
   "metadata": {},
   "outputs": [],
   "source": [
    "train = pd.read_csv('../data/train.csv')\n",
    "test = pd.read_csv('../data/test.csv')\n",
    "\n",
    "X = train.drop(['Id', 'target'], axis=1)\n",
    "X_test = test.drop(['Id', 'target'], axis=1)\n",
    "\n",
    "y = train['target'].values\n",
    "y_test = test['target'].values"
   ]
  },
  {
   "cell_type": "code",
   "execution_count": 23,
   "metadata": {},
   "outputs": [],
   "source": [
    "model = XGBRegressor(\n",
    "    max_depth=5,\n",
    "    learning_rate=0.1,\n",
    "    n_estimators=100,\n",
    "    min_child_weight=2,\n",
    "    subsample=0.6,\n",
    "    colsample_bytree=0.6,\n",
    "    verbosity=0, \n",
    "    objective='reg:squarederror', \n",
    "    nthread=4, \n",
    "    seed = 1773)\n",
    "\n",
    "model.fit(X,y)\n",
    "\n",
    "pred = model.predict(X)\n",
    "pred_test = model.predict(X_test)"
   ]
  },
  {
   "cell_type": "code",
   "execution_count": 24,
   "metadata": {
    "tags": []
   },
   "outputs": [
    {
     "output_type": "stream",
     "name": "stdout",
     "text": "train rmse: 0.06278082984399277\ntest rmse: 0.13493828663113425\n"
    }
   ],
   "source": [
    "print('train rmse:', mean_squared_error(y, pred, squared=False))\n",
    "print('test rmse:', mean_squared_error(y_test, pred_test, squared=False))"
   ]
  }
 ]
}